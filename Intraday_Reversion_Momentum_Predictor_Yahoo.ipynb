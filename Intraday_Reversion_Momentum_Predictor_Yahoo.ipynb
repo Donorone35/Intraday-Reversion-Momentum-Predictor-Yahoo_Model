{
  "nbformat": 4,
  "nbformat_minor": 0,
  "metadata": {
    "colab": {
      "provenance": [],
      "gpuType": "T4"
    },
    "kernelspec": {
      "name": "python3",
      "display_name": "Python 3"
    },
    "language_info": {
      "name": "python"
    },
    "accelerator": "GPU"
  },
  "cells": [
    {
      "cell_type": "code",
      "execution_count": 1,
      "metadata": {
        "colab": {
          "base_uri": "https://localhost:8080/"
        },
        "id": "jL1QwaYorWTM",
        "outputId": "d91ecb34-ec79-42e6-b5d1-84f2ce686401",
        "collapsed": true
      },
      "outputs": [
        {
          "output_type": "stream",
          "name": "stdout",
          "text": [
            "Found existing installation: numpy 1.26.4\n",
            "Uninstalling numpy-1.26.4:\n",
            "  Successfully uninstalled numpy-1.26.4\n",
            "Found existing installation: pandas 2.2.2\n",
            "Uninstalling pandas-2.2.2:\n",
            "  Successfully uninstalled pandas-2.2.2\n"
          ]
        }
      ],
      "source": [
        "!pip uninstall -y numpy pandas\n",
        "!pip install pandas==2.2.2 numpy==1.26.4 alpaca-py ta xgboost matplotlib tqdm python-dotenv yfinance scikit-learn joblib --quiet --disable-pip-version-check --no-deps\n"
      ]
    },
    {
      "cell_type": "code",
      "source": [
        "import os\n",
        "from datetime import datetime, timedelta, timezone\n",
        "\n",
        "import numpy as np\n",
        "import pandas as pd\n",
        "from tqdm import tqdm\n",
        "\n",
        "# Yahoo Finance data\n",
        "import yfinance as yf\n",
        "\n",
        "# Technical indicators\n",
        "import ta\n",
        "\n",
        "# Model\n",
        "from xgboost import XGBClassifier\n",
        "from sklearn.model_selection import train_test_split\n",
        "from sklearn.metrics import classification_report\n",
        "import joblib\n",
        "\n",
        "# Visualization\n",
        "import matplotlib.pyplot as plt\n",
        "\n",
        "# For environment variables (optional if storing ticker or API keys)\n",
        "from dotenv import load_dotenv\n",
        "load_dotenv()\n"
      ],
      "metadata": {
        "colab": {
          "base_uri": "https://localhost:8080/"
        },
        "id": "vzaD_u34rX8p",
        "outputId": "0d5c2898-fd20-4ecc-a9f5-0696920bed8b"
      },
      "execution_count": 2,
      "outputs": [
        {
          "output_type": "execute_result",
          "data": {
            "text/plain": [
              "False"
            ]
          },
          "metadata": {},
          "execution_count": 2
        }
      ]
    },
    {
      "cell_type": "code",
      "source": [
        "import yfinance as yf\n",
        "import pandas as pd\n",
        "from datetime import datetime, timedelta\n",
        "import warnings\n",
        "\n",
        "warnings.simplefilter(action='ignore', category=FutureWarning)  # suppress FutureWarnings\n",
        "\n",
        "symbol = \"AAPL\"\n",
        "\n",
        "def fetch_data(symbol, interval, days_back):\n",
        "    \"\"\"\n",
        "    Fetch historical stock data from Yahoo Finance in chunks to avoid limitations.\n",
        "    \"\"\"\n",
        "    end_date = datetime.utcnow()\n",
        "    start_date = end_date - timedelta(days=days_back)\n",
        "    data_all = []\n",
        "\n",
        "    # yahoo limits for 1m data (~7 days)\n",
        "    chunk_days = 6 if interval == \"1m\" else days_back\n",
        "\n",
        "    current_start = start_date\n",
        "    while current_start < end_date:\n",
        "        current_end = min(current_start + timedelta(days=chunk_days), end_date)\n",
        "        try:\n",
        "            df_chunk = yf.download(\n",
        "                symbol,\n",
        "                interval=interval,\n",
        "                start=current_start.strftime(\"%Y-%m-%d\"),\n",
        "                end=current_end.strftime(\"%Y-%m-%d\"),\n",
        "                progress=False,\n",
        "                auto_adjust=False  # explicitly set to remove FutureWarning\n",
        "            )\n",
        "            if not df_chunk.empty:\n",
        "                data_all.append(df_chunk)\n",
        "        except Exception as e:\n",
        "            print(f\"Error fetching {interval} data: {e}\")\n",
        "        current_start = current_end\n",
        "\n",
        "    if data_all:\n",
        "        df = pd.concat(data_all)\n",
        "        df = df[~df.index.duplicated(keep=\"first\")]\n",
        "        df.sort_index(inplace=True)\n",
        "        return df\n",
        "    else:\n",
        "        return pd.DataFrame()\n",
        "\n",
        "def sanitize_dataframe(df):\n",
        "    if df.empty:\n",
        "        return df\n",
        "    df = df.copy()\n",
        "    # flatten MultiIndex columns if needed\n",
        "    if isinstance(df.columns, pd.MultiIndex):\n",
        "        df.columns = [col[0] for col in df.columns]\n",
        "\n",
        "    for col in [\"Open\", \"High\", \"Low\", \"Close\", \"Volume\"]:\n",
        "        if col in df.columns:\n",
        "            df[col] = pd.to_numeric(df[col], errors=\"coerce\").astype(float)\n",
        "    return df\n",
        "\n",
        "# -------- fetch both --------\n",
        "df_1min = fetch_data(symbol, \"1m\", days_back=29)   # ✅ max ~7 days per chunk\n",
        "df_1h   = fetch_data(symbol, \"1h\", days_back=729) # ✅ 2 years of data\n",
        "\n",
        "df_1min = sanitize_dataframe(df_1min)\n",
        "df_1h   = sanitize_dataframe(df_1h)\n",
        "\n",
        "print(\"1m shape:\", df_1min.shape)\n",
        "print(\"1h shape:\", df_1h.shape)\n"
      ],
      "metadata": {
        "colab": {
          "base_uri": "https://localhost:8080/"
        },
        "id": "j-rP1HKet1Ru",
        "outputId": "039fa481-ab08-4e07-ad26-cd5991d31694"
      },
      "execution_count": 28,
      "outputs": [
        {
          "output_type": "stream",
          "name": "stdout",
          "text": [
            "1m shape: (7774, 6)\n",
            "1h shape: (3473, 6)\n"
          ]
        }
      ]
    },
    {
      "cell_type": "code",
      "source": [
        "import numpy as np\n",
        "import pandas as pd\n",
        "import matplotlib.pyplot as plt\n",
        "import joblib\n",
        "import ta\n",
        "from xgboost import XGBClassifier\n",
        "from sklearn.metrics import classification_report\n",
        "from sklearn.preprocessing import RobustScaler\n",
        "\n",
        "# ======================================================\n",
        "# 1. CLEAN + FEATURES\n",
        "# ======================================================\n",
        "def clean_dataframe(df: pd.DataFrame) -> pd.DataFrame:\n",
        "    df = df.copy()\n",
        "    if isinstance(df.columns, pd.MultiIndex):\n",
        "        df.columns = [c[0] for c in df.columns]\n",
        "    needed = [\"Open\",\"High\",\"Low\",\"Close\",\"Volume\"]\n",
        "    for c in needed:\n",
        "        df[c] = pd.to_numeric(df[c], errors=\"coerce\")\n",
        "    df = df.dropna().sort_index()\n",
        "    if df.index.tz is None:\n",
        "        df.index = df.index.tz_localize(\"UTC\")\n",
        "    return df\n",
        "\n",
        "def _flat(df, series):\n",
        "    return pd.Series(np.asarray(series, dtype=float).ravel(), index=df.index)\n",
        "\n",
        "def add_indicators(df: pd.DataFrame, mode=\"1m\"):\n",
        "    df = df.copy()\n",
        "    # Returns & vol\n",
        "    df[\"ret_1\"] = df[\"Close\"].pct_change()\n",
        "    for k in [2,3,5]:\n",
        "        df[f\"ret_{k}\"] = df[\"Close\"].pct_change(k)\n",
        "    df[\"vol_20\"] = df[\"Close\"].pct_change().rolling(20).std()\n",
        "    df[\"z_close_20\"] = (df[\"Close\"]-df[\"Close\"].rolling(20).mean())/(df[\"Close\"].rolling(20).std()+1e-12)\n",
        "\n",
        "    # VWAP\n",
        "    pv = (df[\"Close\"]*df[\"Volume\"]).cumsum()\n",
        "    vv = df[\"Volume\"].replace(0,np.nan).cumsum()\n",
        "    df[\"vwap_cum\"] = pv/vv\n",
        "\n",
        "    if mode==\"1m\":\n",
        "        df[\"rsi_2\"] = _flat(df, ta.momentum.RSIIndicator(df[\"Close\"],2).rsi())\n",
        "        df[\"rsi_7\"] = _flat(df, ta.momentum.RSIIndicator(df[\"Close\"],7).rsi())\n",
        "        for w in [5,10,20]:\n",
        "            df[f\"ema_{w}\"] = _flat(df, ta.trend.EMAIndicator(df[\"Close\"],w).ema_indicator())\n",
        "        bb = ta.volatility.BollingerBands(df[\"Close\"],20,2)\n",
        "        df[\"bb_perc\"] = _flat(df, bb.bollinger_pband())\n",
        "        df[\"vol_spike\"] = df[\"Volume\"]/ (df[\"Volume\"].rolling(20).mean()+1e-12)\n",
        "        for w in [5,10,20]:\n",
        "            df[f\"dist_ema_{w}\"] = df[\"Close\"]/df[f\"ema_{w}\"] - 1.0\n",
        "        df[\"dist_vwap\"] = df[\"Close\"]/df[\"vwap_cum\"] - 1.0\n",
        "\n",
        "    elif mode==\"1h\":\n",
        "        df[\"rsi_14\"] = _flat(df, ta.momentum.RSIIndicator(df[\"Close\"],14).rsi())\n",
        "        df[\"rsi_28\"] = _flat(df, ta.momentum.RSIIndicator(df[\"Close\"],28).rsi())\n",
        "        macd = ta.trend.MACD(df[\"Close\"])\n",
        "        df[\"macd\"], df[\"macd_sig\"] = _flat(df,macd.macd()), _flat(df,macd.macd_signal())\n",
        "        for w in [20,50,100]:\n",
        "            df[f\"ema_{w}\"] = _flat(df, ta.trend.EMAIndicator(df[\"Close\"],w).ema_indicator())\n",
        "        atr = ta.volatility.AverageTrueRange(df[\"High\"],df[\"Low\"],df[\"Close\"],14)\n",
        "        df[\"atrp_14\"] = _flat(df, atr.average_true_range())/(df[\"Close\"]+1e-12)\n",
        "        for w in [20,50,100]:\n",
        "            df[f\"dist_ema_{w}\"] = df[\"Close\"]/df[f\"ema_{w}\"] - 1.0\n",
        "        df[\"dist_vwap\"] = df[\"Close\"]/df[\"vwap_cum\"] - 1.0\n",
        "\n",
        "    return df.replace([np.inf,-np.inf],np.nan).dropna()\n",
        "\n",
        "def make_labels(df,horizon=5,thr_bps=6):\n",
        "    df=df.copy()\n",
        "    fwd=df[\"Close\"].shift(-horizon)/df[\"Close\"] - 1\n",
        "    thr=thr_bps/10000\n",
        "    df[\"target\"]=np.where(fwd>thr,1,np.where(fwd<-thr,-1,0))\n",
        "    df[\"fwd_ret_h\"]=fwd\n",
        "    return df.dropna()\n",
        "\n",
        "# ======================================================\n",
        "# 2. LABEL MAPPING\n",
        "# ======================================================\n",
        "def remap_labels(y):\n",
        "    \"\"\"Convert {-1,0,1} -> {0,1,2}\"\"\"\n",
        "    y = np.array(y)\n",
        "    return np.where(y==-1,0,np.where(y==0,1,2))\n",
        "\n",
        "def inverse_remap(y):\n",
        "    \"\"\"Convert {0,1,2} -> {-1,0,1}\"\"\"\n",
        "    y = np.array(y)\n",
        "    return np.where(y==0,-1,np.where(y==1,0,1))\n",
        "\n",
        "# ======================================================\n",
        "# 3. MODEL + CV\n",
        "# ======================================================\n",
        "def time_series_folds(n_samples,n_folds=5,min_train_frac=0.6):\n",
        "    start=int(n_samples*min_train_frac)\n",
        "    fold=(n_samples-start)//n_folds\n",
        "    for i in range(n_folds):\n",
        "        te0=start+i*fold\n",
        "        te1=start+(i+1)*fold if i<n_folds-1 else n_samples\n",
        "        yield slice(0,te0), slice(te0,te1)\n",
        "\n",
        "def train_xgb(X_tr, y_tr, X_val, y_val, sample_weight=None):\n",
        "    model = XGBClassifier(\n",
        "        n_estimators=500,\n",
        "        learning_rate=0.05,\n",
        "        max_depth=6,\n",
        "        subsample=0.8,\n",
        "        colsample_bytree=0.8,\n",
        "        tree_method=\"hist\",\n",
        "        random_state=42,\n",
        "    )\n",
        "    model.fit(\n",
        "        X_tr, y_tr,\n",
        "        sample_weight=sample_weight,\n",
        "        eval_set=[(X_val, y_val)],\n",
        "        verbose=False\n",
        "    )\n",
        "    return model\n",
        "\n",
        "def walk_forward_cv(df, mode=\"1m\", n_folds=5, tx_cost_bps=1.0, scaler=None):\n",
        "    drop_cols=[\"Open\",\"High\",\"Low\",\"Close\",\"Volume\",\"fwd_ret_h\",\"target\"]\n",
        "    feats=[c for c in df.columns if c not in drop_cols]\n",
        "    X,y=df[feats].values,df[\"target\"].values\n",
        "\n",
        "    if scaler:\n",
        "        X=scaler.fit_transform(X)\n",
        "\n",
        "    # class weights\n",
        "    vals,cts=np.unique(y,return_counts=True)\n",
        "    weights={v:1.0/c for v,c in zip(vals,cts)}\n",
        "    sample_w=np.vectorize(lambda z:weights[z])(y)\n",
        "\n",
        "    eq_curves=[]; reports=[]\n",
        "    for tr,te in time_series_folds(len(X),n_folds):\n",
        "        Xtr,ytr,Xte,yte = X[tr], y[tr], X[te], y[te]\n",
        "        sw_tr = sample_w[tr]\n",
        "\n",
        "        cut=int(len(Xtr)*0.9)\n",
        "        X_tr_sub, y_tr_sub = Xtr[:cut], remap_labels(ytr[:cut])\n",
        "        X_val_sub, y_val_sub = Xtr[cut:], remap_labels(ytr[cut:])\n",
        "        yte_mapped = remap_labels(yte)\n",
        "\n",
        "        model = train_xgb(X_tr_sub, y_tr_sub, X_val_sub, y_val_sub, sample_weight=sw_tr[:cut])\n",
        "\n",
        "        pred = model.predict(Xte)\n",
        "        reports.append(classification_report(yte_mapped, pred, labels=[0,1,2],\n",
        "                                             target_names=[\"short\",\"hold\",\"long\"],\n",
        "                                             output_dict=True, zero_division=0))\n",
        "\n",
        "        # back to {-1,0,1} for trading\n",
        "        pred_trading = inverse_remap(pred)\n",
        "        df_slice = df.iloc[te].copy()\n",
        "        df_slice[\"pos\"] = pd.Series(pred_trading,index=df_slice.index).shift().fillna(0)\n",
        "        pnl = df_slice[\"pos\"]*df_slice[\"fwd_ret_h\"]\n",
        "        cost = (df_slice[\"pos\"]!=df_slice[\"pos\"].shift()).astype(int)*(tx_cost_bps/10000)\n",
        "        pnl_net = pnl - cost\n",
        "        eq_curves.append((1+pnl_net).cumprod())\n",
        "\n",
        "    eq = pd.concat(eq_curves,axis=1).fillna(method=\"ffill\").fillna(1.0)\n",
        "    eq_mean = eq.mean(axis=1)\n",
        "    print(f\"{mode} Final Equity {eq_mean.iloc[-1]:.2f}x\")\n",
        "    return eq_mean, reports, feats\n",
        "\n",
        "# ======================================================\n",
        "# 4. PIPELINE\n",
        "# ======================a================================\n",
        "def run_pipeline(df, mode, horizon, thr_bps, scaler=None, save_path=None):\n",
        "    df = clean_dataframe(df)\n",
        "    df = add_indicators(df, mode=mode)\n",
        "    df = make_labels(df, horizon=horizon, thr_bps=thr_bps)\n",
        "    eq, reports, feats = walk_forward_cv(df, mode=mode, scaler=scaler)\n",
        "    if save_path:\n",
        "        X,y = df[feats].values, remap_labels(df[\"target\"].values)\n",
        "        cut=int(len(X)*0.9)\n",
        "        model = train_xgb(X[:cut], y[:cut], X[cut:], y[cut:])\n",
        "        joblib.dump({\"model\":model, \"features\":feats, \"mode\":mode}, save_path)\n",
        "        print(f\"Saved {mode} model to {save_path}\")\n",
        "    return eq, reports\n"
      ],
      "metadata": {
        "id": "vMAqaztvsYoA"
      },
      "execution_count": 32,
      "outputs": []
    },
    {
      "cell_type": "code",
      "source": [
        "eq1m, rep1m = run_pipeline(df_1min, \"1m\", horizon=5, thr_bps=6, scaler=RobustScaler(), save_path=\"xgb_1m.pkl\")\n",
        "eq1h, rep1h = run_pipeline(df_1h, \"1h\", horizon=3, thr_bps=10, scaler=RobustScaler(), save_path=\"xgb_1h.pkl\")\n"
      ],
      "metadata": {
        "id": "QKNH4HjdxnYa",
        "colab": {
          "base_uri": "https://localhost:8080/"
        },
        "outputId": "4d115ef2-e9df-4fa1-d830-ccb16f52c2b8"
      },
      "execution_count": 33,
      "outputs": [
        {
          "output_type": "stream",
          "name": "stdout",
          "text": [
            "1m Final Equity 0.91x\n",
            "Saved 1m model to xgb_1m.pkl\n",
            "1h Final Equity 0.97x\n",
            "Saved 1h model to xgb_1h.pkl\n"
          ]
        }
      ]
    },
    {
      "cell_type": "code",
      "source": [
        "# ===============================\n",
        "# TRAIN-TEST + METRICS EVALUATION\n",
        "# ===============================\n",
        "from sklearn.metrics import accuracy_score, precision_score, recall_score, f1_score, confusion_matrix\n",
        "\n",
        "def evaluate_model(df, mode=\"1m\", horizon=5, thr_bps=6):\n",
        "    # Train-test pipeline\n",
        "    model, feats, scaler = train_test_pipeline(df, mode=mode, horizon=horizon, thr_bps=thr_bps)\n",
        "\n",
        "    # Prepare test set for metrics\n",
        "    df_clean = clean_dataframe(df)\n",
        "    df_feat = add_indicators(df_clean, mode=mode)\n",
        "    df_label = make_labels(df_feat, horizon=horizon, thr_bps=thr_bps)\n",
        "\n",
        "    drop_cols = [\"Open\",\"High\",\"Low\",\"Close\",\"Volume\",\"fwd_ret_h\",\"target\"]\n",
        "    X = df_label[feats].values\n",
        "    y = remap_labels(df_label[\"target\"].values)\n",
        "\n",
        "    # Train-test split\n",
        "    split_idx = int(len(X)*0.8)\n",
        "    X_train, X_test = X[:split_idx], X[split_idx:]\n",
        "    y_train, y_test = y[:split_idx], y[split_idx:]\n",
        "\n",
        "    # Scale test\n",
        "    X_test_scaled = scaler.transform(X_test)\n",
        "\n",
        "    # Predict\n",
        "    y_pred = model.predict(X_test_scaled)\n",
        "\n",
        "    # Metrics\n",
        "    acc = accuracy_score(y_test, y_pred)\n",
        "    prec_macro = precision_score(y_test, y_pred, average=\"macro\", zero_division=0)\n",
        "    rec_macro  = recall_score(y_test, y_pred, average=\"macro\", zero_division=0)\n",
        "    f1_macro   = f1_score(y_test, y_pred, average=\"macro\", zero_division=0)\n",
        "    cm = confusion_matrix(y_test, y_pred)\n",
        "\n",
        "    print(f\"=== {mode} Test Set Metrics ===\")\n",
        "    print(f\"Accuracy : {acc:.4f}\")\n",
        "    print(f\"Precision: {prec_macro:.4f}\")\n",
        "    print(f\"Recall   : {rec_macro:.4f}\")\n",
        "    print(f\"F1-score : {f1_macro:.4f}\")\n",
        "    print(\"Confusion Matrix:\")\n",
        "    print(cm)\n",
        "    print(\"\\nClassification Report:\")\n",
        "    print(classification_report(y_test, y_pred, labels=[0,1,2],\n",
        "                                target_names=[\"short\",\"hold\",\"long\"], zero_division=0))\n",
        "    return model, feats, scaler\n",
        "\n",
        "# ===============================\n",
        "# RUN ON 1m AND 1h DATA\n",
        "# ===============================\n",
        "model_1m, feats_1m, scaler_1m = evaluate_model(df_1min, mode=\"1m\", horizon=5, thr_bps=6)\n",
        "model_1h, feats_1h, scaler_1h = evaluate_model(df_1h, mode=\"1h\", horizon=3, thr_bps=10)\n",
        "\n",
        "# Save models\n",
        "joblib.dump({\"model\":model_1m, \"features\":feats_1m, \"mode\":\"1m\"}, \"xgb_1m.pkl\")\n",
        "joblib.dump({\"model\":model_1h, \"features\":feats_1h, \"mode\":\"1h\"}, \"xgb_1h.pkl\")\n",
        "print(\"Models saved successfully.\")\n"
      ],
      "metadata": {
        "colab": {
          "base_uri": "https://localhost:8080/"
        },
        "id": "xK_pVJaNrEca",
        "outputId": "b6e732d7-007f-4956-8c6a-e73920b64298"
      },
      "execution_count": 34,
      "outputs": [
        {
          "output_type": "stream",
          "name": "stdout",
          "text": [
            "=== Test Set Classification Report ===\n",
            "              precision    recall  f1-score   support\n",
            "\n",
            "       short       0.31      0.91      0.46       457\n",
            "        hold       0.46      0.14      0.22       617\n",
            "        long       0.00      0.00      0.00       476\n",
            "\n",
            "    accuracy                           0.33      1550\n",
            "   macro avg       0.26      0.35      0.23      1550\n",
            "weighted avg       0.27      0.33      0.22      1550\n",
            "\n",
            "=== 1m Test Set Metrics ===\n",
            "Accuracy : 0.3258\n",
            "Precision: 0.2560\n",
            "Recall   : 0.3519\n",
            "F1-score : 0.2254\n",
            "Confusion Matrix:\n",
            "[[418  39   0]\n",
            " [528  87   2]\n",
            " [413  63   0]]\n",
            "\n",
            "Classification Report:\n",
            "              precision    recall  f1-score   support\n",
            "\n",
            "       short       0.31      0.91      0.46       457\n",
            "        hold       0.46      0.14      0.22       617\n",
            "        long       0.00      0.00      0.00       476\n",
            "\n",
            "    accuracy                           0.33      1550\n",
            "   macro avg       0.26      0.35      0.23      1550\n",
            "weighted avg       0.27      0.33      0.22      1550\n",
            "\n",
            "=== Test Set Classification Report ===\n",
            "              precision    recall  f1-score   support\n",
            "\n",
            "       short       0.40      0.24      0.30       274\n",
            "        hold       0.00      0.00      0.00        74\n",
            "        long       0.48      0.75      0.59       326\n",
            "\n",
            "    accuracy                           0.46       674\n",
            "   macro avg       0.29      0.33      0.30       674\n",
            "weighted avg       0.40      0.46      0.41       674\n",
            "\n",
            "=== 1h Test Set Metrics ===\n",
            "Accuracy : 0.4614\n",
            "Precision: 0.2947\n",
            "Recall   : 0.3306\n",
            "F1-score : 0.2953\n",
            "Confusion Matrix:\n",
            "[[ 65   1 208]\n",
            " [ 16   0  58]\n",
            " [ 80   0 246]]\n",
            "\n",
            "Classification Report:\n",
            "              precision    recall  f1-score   support\n",
            "\n",
            "       short       0.40      0.24      0.30       274\n",
            "        hold       0.00      0.00      0.00        74\n",
            "        long       0.48      0.75      0.59       326\n",
            "\n",
            "    accuracy                           0.46       674\n",
            "   macro avg       0.29      0.33      0.30       674\n",
            "weighted avg       0.40      0.46      0.41       674\n",
            "\n",
            "Models saved successfully.\n"
          ]
        }
      ]
    },
    {
      "cell_type": "code",
      "source": [
        "import matplotlib.pyplot as plt\n",
        "import joblib\n",
        "\n",
        "# Assuming eq1m and eq1h are already in memory from run_pipeline\n",
        "plt.figure(figsize=(12,6))\n",
        "\n",
        "plt.plot(eq1m.index, eq1m.values, label=\"1m Model Equity\", color=\"blue\")\n",
        "plt.plot(eq1h.index, eq1h.values, label=\"1h Model Equity\", color=\"orange\")\n",
        "\n",
        "plt.title(\"Walk-Forward Equity Curves\")\n",
        "plt.xlabel(\"Time\")\n",
        "plt.ylabel(\"Equity (x)\")\n",
        "plt.legend()\n",
        "plt.grid(True)\n",
        "plt.show()\n"
      ],
      "metadata": {
        "colab": {
          "base_uri": "https://localhost:8080/",
          "height": 564
        },
        "id": "LRFsgubqTNUJ",
        "outputId": "134adf06-6237-46db-9acc-027df8985daf"
      },
      "execution_count": 22,
      "outputs": [
        {
          "output_type": "display_data",
          "data": {
            "text/plain": [
              "<Figure size 1200x600 with 1 Axes>"
            ],
            "image/png": "[encoded data removed]"
          },
          "metadata": {}
        }
      ]
    },
    {
      "cell_type": "code",
      "source": [
        "import matplotlib.pyplot as plt\n",
        "from IPython.display import clear_output\n",
        "import time\n",
        "import joblib\n",
        "import numpy as np\n",
        "import pandas as pd\n",
        "from datetime import datetime\n",
        "\n",
        "# Load trained models and features\n",
        "model_1m_data = joblib.load(\"xgb_1m.pkl\")\n",
        "model_1h_data = joblib.load(\"xgb_1h.pkl\")\n",
        "\n",
        "model_1m = model_1m_data[\"model\"]\n",
        "features_1m = model_1m_data[\"features\"]\n",
        "model_1h = model_1h_data[\"model\"]\n",
        "features_1h = model_1h_data[\"features\"]\n",
        "\n",
        "# Store live predictions\n",
        "live_predictions = []\n",
        "\n",
        "# Equity tracking\n",
        "equity = 1.0\n",
        "equity_curve = []\n",
        "\n",
        "# Number of iterations for testing\n",
        "iterations = 10\n",
        "symbol = \"AAPL\"\n",
        "\n",
        "for i in range(iterations):\n",
        "    # ---------------------------\n",
        "    # Fetch latest 1-minute data\n",
        "    # ---------------------------\n",
        "    df_1m_live = fetch_data(symbol, \"1m\", days_back=1)\n",
        "    df_1m_live = sanitize_dataframe(df_1m_live)\n",
        "\n",
        "    if df_1m_live.empty:\n",
        "        print(f\"No 1-minute data available for {symbol} at {datetime.utcnow()}\")\n",
        "        time.sleep(60)\n",
        "        continue\n",
        "\n",
        "    df_1m_live = add_indicators(df_1m_live, mode=\"1m\")\n",
        "\n",
        "    # ---------------------------\n",
        "    # Fetch latest 1-hour data\n",
        "    # ---------------------------\n",
        "    df_1h_live = fetch_data(symbol, \"1h\", days_back=30)\n",
        "    df_1h_live = sanitize_dataframe(df_1h_live)\n",
        "\n",
        "    if df_1h_live.empty:\n",
        "        print(f\"No 1-hour data available for {symbol} at {datetime.utcnow()}\")\n",
        "        time.sleep(60)\n",
        "        continue\n",
        "\n",
        "    df_1h_live = add_indicators(df_1h_live, mode=\"1h\")\n",
        "\n",
        "    # ---------------------------\n",
        "    # Prepare features and predict\n",
        "    # ---------------------------\n",
        "    X_1m = df_1m_live[features_1m].values[-1].reshape(1, -1)\n",
        "    X_1h = df_1h_live[features_1h].values[-1].reshape(1, -1)\n",
        "\n",
        "    pos_1m = inverse_remap(model_1m.predict(X_1m))[0]\n",
        "    pos_1h = inverse_remap(model_1h.predict(X_1h))[0]\n",
        "\n",
        "    # Combine signals (confirmation)\n",
        "    final_signal = pos_1m if pos_1m == pos_1h else 0\n",
        "\n",
        "    # Save prediction\n",
        "    live_predictions.append({\n",
        "        \"datetime\": datetime.utcnow(),\n",
        "        \"signal\": final_signal,\n",
        "        \"pos_1m\": pos_1m,\n",
        "        \"pos_1h\": pos_1h\n",
        "    })\n",
        "\n",
        "    # ---------------------------\n",
        "    # Update equity curve (simulate 1-min return)\n",
        "    # ---------------------------\n",
        "    if len(df_1m_live) > 1:\n",
        "        fwd_ret = df_1m_live[\"Close\"].pct_change().iloc[-1]\n",
        "        equity *= (1 + final_signal * fwd_ret)\n",
        "        equity_curve.append(equity)\n",
        "\n",
        "    # ---------------------------\n",
        "    # Real-time plot\n",
        "    # ---------------------------\n",
        "    clear_output(wait=True)\n",
        "    plt.figure(figsize=(12,6))\n",
        "    plt.plot(equity_curve, label=\"Live 1m Equity\", color=\"blue\")\n",
        "    plt.title(\"Live 1-Minute Model Equity Curve\")\n",
        "    plt.xlabel(\"Iteration\")\n",
        "    plt.ylabel(\"Equity (x)\")\n",
        "    plt.legend()\n",
        "    plt.grid(True)\n",
        "    plt.show()\n",
        "\n",
        "    print(f\"{datetime.utcnow()} | 1m: {pos_1m}, 1h: {pos_1h}, final: {final_signal}, equity: {equity:.4f}\")\n",
        "\n",
        "    # Wait until next 1-minute candle\n",
        "    time.sleep(60)\n"
      ],
      "metadata": {
        "colab": {
          "base_uri": "https://localhost:8080/"
        },
        "id": "iMJIc7h9WAC5",
        "outputId": "246e59a1-f0c5-4e0a-d224-3da619f5f5c7"
      },
      "execution_count": 32,
      "outputs": [
        {
          "output_type": "stream",
          "name": "stderr",
          "text": [
            "/tmp/ipython-input-1581888188.py:22: FutureWarning: YF.download() has changed argument auto_adjust default to True\n",
            "  df_chunk = yf.download(\n",
            "ERROR:yfinance:\n",
            "1 Failed download:\n",
            "ERROR:yfinance:['AAPL']: YFPricesMissingError('possibly delisted; no price data found  (1m 2025-08-16 -> 2025-08-17)')\n"
          ]
        },
        {
          "output_type": "stream",
          "name": "stdout",
          "text": [
            "No 1-minute data available for AAPL at 2025-08-17 14:16:37.372184\n"
          ]
        },
        {
          "output_type": "stream",
          "name": "stderr",
          "text": [
            "/tmp/ipython-input-1581888188.py:22: FutureWarning: YF.download() has changed argument auto_adjust default to True\n",
            "  df_chunk = yf.download(\n",
            "ERROR:yfinance:\n",
            "1 Failed download:\n",
            "ERROR:yfinance:['AAPL']: YFPricesMissingError('possibly delisted; no price data found  (1m 2025-08-16 -> 2025-08-17)')\n"
          ]
        },
        {
          "output_type": "stream",
          "name": "stdout",
          "text": [
            "No 1-minute data available for AAPL at 2025-08-17 14:17:37.389802\n"
          ]
        },
        {
          "output_type": "stream",
          "name": "stderr",
          "text": [
            "/tmp/ipython-input-1581888188.py:22: FutureWarning: YF.download() has changed argument auto_adjust default to True\n",
            "  df_chunk = yf.download(\n",
            "ERROR:yfinance:\n",
            "1 Failed download:\n",
            "ERROR:yfinance:['AAPL']: YFPricesMissingError('possibly delisted; no price data found  (1m 2025-08-16 -> 2025-08-17)')\n"
          ]
        },
        {
          "output_type": "stream",
          "name": "stdout",
          "text": [
            "No 1-minute data available for AAPL at 2025-08-17 14:18:37.407251\n"
          ]
        },
        {
          "output_type": "stream",
          "name": "stderr",
          "text": [
            "/tmp/ipython-input-1581888188.py:22: FutureWarning: YF.download() has changed argument auto_adjust default to True\n",
            "  df_chunk = yf.download(\n",
            "ERROR:yfinance:\n",
            "1 Failed download:\n",
            "ERROR:yfinance:['AAPL']: YFPricesMissingError('possibly delisted; no price data found  (1m 2025-08-16 -> 2025-08-17)')\n"
          ]
        },
        {
          "output_type": "stream",
          "name": "stdout",
          "text": [
            "No 1-minute data available for AAPL at 2025-08-17 14:19:37.424077\n"
          ]
        },
        {
          "output_type": "stream",
          "name": "stderr",
          "text": [
            "/tmp/ipython-input-1581888188.py:22: FutureWarning: YF.download() has changed argument auto_adjust default to True\n",
            "  df_chunk = yf.download(\n",
            "ERROR:yfinance:\n",
            "1 Failed download:\n",
            "ERROR:yfinance:['AAPL']: YFPricesMissingError('possibly delisted; no price data found  (1m 2025-08-16 -> 2025-08-17)')\n"
          ]
        },
        {
          "output_type": "stream",
          "name": "stdout",
          "text": [
            "No 1-minute data available for AAPL at 2025-08-17 14:20:37.441442\n"
          ]
        },
        {
          "output_type": "stream",
          "name": "stderr",
          "text": [
            "/tmp/ipython-input-1581888188.py:22: FutureWarning: YF.download() has changed argument auto_adjust default to True\n",
            "  df_chunk = yf.download(\n",
            "ERROR:yfinance:\n",
            "1 Failed download:\n",
            "ERROR:yfinance:['AAPL']: YFPricesMissingError('possibly delisted; no price data found  (1m 2025-08-16 -> 2025-08-17)')\n"
          ]
        },
        {
          "output_type": "stream",
          "name": "stdout",
          "text": [
            "No 1-minute data available for AAPL at 2025-08-17 14:21:37.458855\n"
          ]
        },
        {
          "output_type": "stream",
          "name": "stderr",
          "text": [
            "/tmp/ipython-input-1581888188.py:22: FutureWarning: YF.download() has changed argument auto_adjust default to True\n",
            "  df_chunk = yf.download(\n",
            "ERROR:yfinance:\n",
            "1 Failed download:\n",
            "ERROR:yfinance:['AAPL']: YFPricesMissingError('possibly delisted; no price data found  (1m 2025-08-16 -> 2025-08-17)')\n"
          ]
        },
        {
          "output_type": "stream",
          "name": "stdout",
          "text": [
            "No 1-minute data available for AAPL at 2025-08-17 14:22:37.476295\n"
          ]
        },
        {
          "output_type": "stream",
          "name": "stderr",
          "text": [
            "/tmp/ipython-input-1581888188.py:22: FutureWarning: YF.download() has changed argument auto_adjust default to True\n",
            "  df_chunk = yf.download(\n",
            "ERROR:yfinance:\n",
            "1 Failed download:\n",
            "ERROR:yfinance:['AAPL']: YFPricesMissingError('possibly delisted; no price data found  (1m 2025-08-16 -> 2025-08-17)')\n"
          ]
        },
        {
          "output_type": "stream",
          "name": "stdout",
          "text": [
            "No 1-minute data available for AAPL at 2025-08-17 14:23:37.493066\n"
          ]
        },
        {
          "output_type": "stream",
          "name": "stderr",
          "text": [
            "/tmp/ipython-input-1581888188.py:22: FutureWarning: YF.download() has changed argument auto_adjust default to True\n",
            "  df_chunk = yf.download(\n",
            "ERROR:yfinance:\n",
            "1 Failed download:\n",
            "ERROR:yfinance:['AAPL']: YFPricesMissingError('possibly delisted; no price data found  (1m 2025-08-16 -> 2025-08-17)')\n"
          ]
        },
        {
          "output_type": "stream",
          "name": "stdout",
          "text": [
            "No 1-minute data available for AAPL at 2025-08-17 14:24:37.510401\n"
          ]
        },
        {
          "output_type": "stream",
          "name": "stderr",
          "text": [
            "/tmp/ipython-input-1581888188.py:22: FutureWarning: YF.download() has changed argument auto_adjust default to True\n",
            "  df_chunk = yf.download(\n",
            "ERROR:yfinance:\n",
            "1 Failed download:\n",
            "ERROR:yfinance:['AAPL']: YFPricesMissingError('possibly delisted; no price data found  (1m 2025-08-16 -> 2025-08-17)')\n"
          ]
        },
        {
          "output_type": "stream",
          "name": "stdout",
          "text": [
            "No 1-minute data available for AAPL at 2025-08-17 14:25:37.528881\n"
          ]
        }
      ]
    },
    {
      "cell_type": "code",
      "source": [
        "# -----------------------------\n",
        "# Fetch 29 days of 1-minute data\n",
        "# -----------------------------\n",
        "df_1min = fetch_data(symbol, \"1m\", days_back=29)\n",
        "df_1min = sanitize_dataframe(df_1min)\n",
        "df_1min = add_indicators(df_1min, mode=\"1m\")\n",
        "df_1min = make_labels(df_1min, horizon=5, thr_bps=6)\n",
        "\n",
        "# -----------------------------\n",
        "# Slice test data: days 16 to 29\n",
        "# -----------------------------\n",
        "minutes_per_day = 390  # approx. market minutes per day\n",
        "start_minute = 29*minutes_per_day - (29-16)*minutes_per_day  # starting index for day 16\n",
        "end_minute = 29*minutes_per_day - 1  # last minute of day 29\n",
        "\n",
        "if len(df_1min) < end_minute:\n",
        "    end_minute = len(df_1min) - 1\n",
        "if len(df_1min) < start_minute:\n",
        "    start_minute = 0\n",
        "\n",
        "df_test = df_1min.iloc[start_minute:end_minute+1]\n",
        "\n",
        "# -----------------------------\n",
        "# Prepare test data\n",
        "# -----------------------------\n",
        "features_1m = [f for f in features_1m if f in df_test.columns]\n",
        "X_test = df_test[features_1m].values\n",
        "y_test = remap_labels(df_test[\"target\"].values)\n",
        "\n",
        "# -----------------------------\n",
        "# Predict and evaluate\n",
        "# -----------------------------\n",
        "if len(X_test) == 0:\n",
        "    print(\"No test data available. Check how many minutes you fetched.\")\n",
        "else:\n",
        "    y_pred = model_1m.predict(X_test)\n",
        "    report = classification_report(\n",
        "        y_test, y_pred,\n",
        "        labels=[0, 1, 2],\n",
        "        target_names=[\"short\", \"hold\", \"long\"],\n",
        "        zero_division=0\n",
        "    )\n",
        "    print(\"=== Accuracy Report on Test Set (Days 16-29) ===\")\n",
        "    print(report)\n"
      ],
      "metadata": {
        "colab": {
          "base_uri": "https://localhost:8080/",
          "height": 371
        },
        "id": "9VFmCUB0YhES",
        "outputId": "6386ddcc-a4d5-4441-968e-cbbbb59af747"
      },
      "execution_count": 24,
      "outputs": [
        {
          "output_type": "error",
          "ename": "ValueError",
          "evalue": "Feature shape mismatch, expected: 19, got 1",
          "traceback": [
            "\u001b[0;31m---------------------------------------------------------------------------\u001b[0m",
            "\u001b[0;31mValueError\u001b[0m                                Traceback (most recent call last)",
            "\u001b[0;32m/tmp/ipython-input-4046642011.py\u001b[0m in \u001b[0;36m<cell line: 0>\u001b[0;34m()\u001b[0m\n\u001b[1;32m     34\u001b[0m     \u001b[0mprint\u001b[0m\u001b[0;34m(\u001b[0m\u001b[0;34m\"No test data available. Check how many minutes you fetched.\"\u001b[0m\u001b[0;34m)\u001b[0m\u001b[0;34m\u001b[0m\u001b[0;34m\u001b[0m\u001b[0m\n\u001b[1;32m     35\u001b[0m \u001b[0;32melse\u001b[0m\u001b[0;34m:\u001b[0m\u001b[0;34m\u001b[0m\u001b[0;34m\u001b[0m\u001b[0m\n\u001b[0;32m---> 36\u001b[0;31m     \u001b[0my_pred\u001b[0m \u001b[0;34m=\u001b[0m \u001b[0mmodel_1m\u001b[0m\u001b[0;34m.\u001b[0m\u001b[0mpredict\u001b[0m\u001b[0;34m(\u001b[0m\u001b[0mX_test\u001b[0m\u001b[0;34m)\u001b[0m\u001b[0;34m\u001b[0m\u001b[0;34m\u001b[0m\u001b[0m\n\u001b[0m\u001b[1;32m     37\u001b[0m     report = classification_report(\n\u001b[1;32m     38\u001b[0m         \u001b[0my_test\u001b[0m\u001b[0;34m,\u001b[0m \u001b[0my_pred\u001b[0m\u001b[0;34m,\u001b[0m\u001b[0;34m\u001b[0m\u001b[0;34m\u001b[0m\u001b[0m\n",
            "\u001b[0;32m/usr/local/lib/python3.11/dist-packages/xgboost/core.py\u001b[0m in \u001b[0;36minner_f\u001b[0;34m(*args, **kwargs)\u001b[0m\n\u001b[1;32m    727\u001b[0m             \u001b[0;32mfor\u001b[0m \u001b[0mk\u001b[0m\u001b[0;34m,\u001b[0m \u001b[0marg\u001b[0m \u001b[0;32min\u001b[0m \u001b[0mzip\u001b[0m\u001b[0;34m(\u001b[0m\u001b[0msig\u001b[0m\u001b[0;34m.\u001b[0m\u001b[0mparameters\u001b[0m\u001b[0;34m,\u001b[0m \u001b[0margs\u001b[0m\u001b[0;34m)\u001b[0m\u001b[0;34m:\u001b[0m\u001b[0;34m\u001b[0m\u001b[0;34m\u001b[0m\u001b[0m\n\u001b[1;32m    728\u001b[0m                 \u001b[0mkwargs\u001b[0m\u001b[0;34m[\u001b[0m\u001b[0mk\u001b[0m\u001b[0;34m]\u001b[0m \u001b[0;34m=\u001b[0m \u001b[0marg\u001b[0m\u001b[0;34m\u001b[0m\u001b[0;34m\u001b[0m\u001b[0m\n\u001b[0;32m--> 729\u001b[0;31m             \u001b[0;32mreturn\u001b[0m \u001b[0mfunc\u001b[0m\u001b[0;34m(\u001b[0m\u001b[0;34m**\u001b[0m\u001b[0mkwargs\u001b[0m\u001b[0;34m)\u001b[0m\u001b[0;34m\u001b[0m\u001b[0;34m\u001b[0m\u001b[0m\n\u001b[0m\u001b[1;32m    730\u001b[0m \u001b[0;34m\u001b[0m\u001b[0m\n\u001b[1;32m    731\u001b[0m         \u001b[0;32mreturn\u001b[0m \u001b[0minner_f\u001b[0m\u001b[0;34m\u001b[0m\u001b[0;34m\u001b[0m\u001b[0m\n",
            "\u001b[0;32m/usr/local/lib/python3.11/dist-packages/xgboost/sklearn.py\u001b[0m in \u001b[0;36mpredict\u001b[0;34m(self, X, output_margin, validate_features, base_margin, iteration_range)\u001b[0m\n\u001b[1;32m   1717\u001b[0m     ) -> ArrayLike:\n\u001b[1;32m   1718\u001b[0m         \u001b[0;32mwith\u001b[0m \u001b[0mconfig_context\u001b[0m\u001b[0;34m(\u001b[0m\u001b[0mverbosity\u001b[0m\u001b[0;34m=\u001b[0m\u001b[0mself\u001b[0m\u001b[0;34m.\u001b[0m\u001b[0mverbosity\u001b[0m\u001b[0;34m)\u001b[0m\u001b[0;34m:\u001b[0m\u001b[0;34m\u001b[0m\u001b[0;34m\u001b[0m\u001b[0m\n\u001b[0;32m-> 1719\u001b[0;31m             class_probs = super().predict(\n\u001b[0m\u001b[1;32m   1720\u001b[0m                 \u001b[0mX\u001b[0m\u001b[0;34m=\u001b[0m\u001b[0mX\u001b[0m\u001b[0;34m,\u001b[0m\u001b[0;34m\u001b[0m\u001b[0;34m\u001b[0m\u001b[0m\n\u001b[1;32m   1721\u001b[0m                 \u001b[0moutput_margin\u001b[0m\u001b[0;34m=\u001b[0m\u001b[0moutput_margin\u001b[0m\u001b[0;34m,\u001b[0m\u001b[0;34m\u001b[0m\u001b[0;34m\u001b[0m\u001b[0m\n",
            "\u001b[0;32m/usr/local/lib/python3.11/dist-packages/xgboost/core.py\u001b[0m in \u001b[0;36minner_f\u001b[0;34m(*args, **kwargs)\u001b[0m\n\u001b[1;32m    727\u001b[0m             \u001b[0;32mfor\u001b[0m \u001b[0mk\u001b[0m\u001b[0;34m,\u001b[0m \u001b[0marg\u001b[0m \u001b[0;32min\u001b[0m \u001b[0mzip\u001b[0m\u001b[0;34m(\u001b[0m\u001b[0msig\u001b[0m\u001b[0;34m.\u001b[0m\u001b[0mparameters\u001b[0m\u001b[0;34m,\u001b[0m \u001b[0margs\u001b[0m\u001b[0;34m)\u001b[0m\u001b[0;34m:\u001b[0m\u001b[0;34m\u001b[0m\u001b[0;34m\u001b[0m\u001b[0m\n\u001b[1;32m    728\u001b[0m                 \u001b[0mkwargs\u001b[0m\u001b[0;34m[\u001b[0m\u001b[0mk\u001b[0m\u001b[0;34m]\u001b[0m \u001b[0;34m=\u001b[0m \u001b[0marg\u001b[0m\u001b[0;34m\u001b[0m\u001b[0;34m\u001b[0m\u001b[0m\n\u001b[0;32m--> 729\u001b[0;31m             \u001b[0;32mreturn\u001b[0m \u001b[0mfunc\u001b[0m\u001b[0;34m(\u001b[0m\u001b[0;34m**\u001b[0m\u001b[0mkwargs\u001b[0m\u001b[0;34m)\u001b[0m\u001b[0;34m\u001b[0m\u001b[0;34m\u001b[0m\u001b[0m\n\u001b[0m\u001b[1;32m    730\u001b[0m \u001b[0;34m\u001b[0m\u001b[0m\n\u001b[1;32m    731\u001b[0m         \u001b[0;32mreturn\u001b[0m \u001b[0minner_f\u001b[0m\u001b[0;34m\u001b[0m\u001b[0;34m\u001b[0m\u001b[0m\n",
            "\u001b[0;32m/usr/local/lib/python3.11/dist-packages/xgboost/sklearn.py\u001b[0m in \u001b[0;36mpredict\u001b[0;34m(self, X, output_margin, validate_features, base_margin, iteration_range)\u001b[0m\n\u001b[1;32m   1325\u001b[0m             \u001b[0;32mif\u001b[0m \u001b[0mself\u001b[0m\u001b[0;34m.\u001b[0m\u001b[0m_can_use_inplace_predict\u001b[0m\u001b[0;34m(\u001b[0m\u001b[0;34m)\u001b[0m\u001b[0;34m:\u001b[0m\u001b[0;34m\u001b[0m\u001b[0;34m\u001b[0m\u001b[0m\n\u001b[1;32m   1326\u001b[0m                 \u001b[0;32mtry\u001b[0m\u001b[0;34m:\u001b[0m\u001b[0;34m\u001b[0m\u001b[0;34m\u001b[0m\u001b[0m\n\u001b[0;32m-> 1327\u001b[0;31m                     predts = self.get_booster().inplace_predict(\n\u001b[0m\u001b[1;32m   1328\u001b[0m                         \u001b[0mdata\u001b[0m\u001b[0;34m=\u001b[0m\u001b[0mX\u001b[0m\u001b[0;34m,\u001b[0m\u001b[0;34m\u001b[0m\u001b[0;34m\u001b[0m\u001b[0m\n\u001b[1;32m   1329\u001b[0m                         \u001b[0miteration_range\u001b[0m\u001b[0;34m=\u001b[0m\u001b[0miteration_range\u001b[0m\u001b[0;34m,\u001b[0m\u001b[0;34m\u001b[0m\u001b[0;34m\u001b[0m\u001b[0m\n",
            "\u001b[0;32m/usr/local/lib/python3.11/dist-packages/xgboost/core.py\u001b[0m in \u001b[0;36minner_f\u001b[0;34m(*args, **kwargs)\u001b[0m\n\u001b[1;32m    727\u001b[0m             \u001b[0;32mfor\u001b[0m \u001b[0mk\u001b[0m\u001b[0;34m,\u001b[0m \u001b[0marg\u001b[0m \u001b[0;32min\u001b[0m \u001b[0mzip\u001b[0m\u001b[0;34m(\u001b[0m\u001b[0msig\u001b[0m\u001b[0;34m.\u001b[0m\u001b[0mparameters\u001b[0m\u001b[0;34m,\u001b[0m \u001b[0margs\u001b[0m\u001b[0;34m)\u001b[0m\u001b[0;34m:\u001b[0m\u001b[0;34m\u001b[0m\u001b[0;34m\u001b[0m\u001b[0m\n\u001b[1;32m    728\u001b[0m                 \u001b[0mkwargs\u001b[0m\u001b[0;34m[\u001b[0m\u001b[0mk\u001b[0m\u001b[0;34m]\u001b[0m \u001b[0;34m=\u001b[0m \u001b[0marg\u001b[0m\u001b[0;34m\u001b[0m\u001b[0;34m\u001b[0m\u001b[0m\n\u001b[0;32m--> 729\u001b[0;31m             \u001b[0;32mreturn\u001b[0m \u001b[0mfunc\u001b[0m\u001b[0;34m(\u001b[0m\u001b[0;34m**\u001b[0m\u001b[0mkwargs\u001b[0m\u001b[0;34m)\u001b[0m\u001b[0;34m\u001b[0m\u001b[0;34m\u001b[0m\u001b[0m\n\u001b[0m\u001b[1;32m    730\u001b[0m \u001b[0;34m\u001b[0m\u001b[0m\n\u001b[1;32m    731\u001b[0m         \u001b[0;32mreturn\u001b[0m \u001b[0minner_f\u001b[0m\u001b[0;34m\u001b[0m\u001b[0;34m\u001b[0m\u001b[0m\n",
            "\u001b[0;32m/usr/local/lib/python3.11/dist-packages/xgboost/core.py\u001b[0m in \u001b[0;36minplace_predict\u001b[0;34m(self, data, iteration_range, predict_type, missing, validate_features, base_margin, strict_shape)\u001b[0m\n\u001b[1;32m   2675\u001b[0m                 )\n\u001b[1;32m   2676\u001b[0m             \u001b[0;32mif\u001b[0m \u001b[0mlen\u001b[0m\u001b[0;34m(\u001b[0m\u001b[0mdata\u001b[0m\u001b[0;34m.\u001b[0m\u001b[0mshape\u001b[0m\u001b[0;34m)\u001b[0m \u001b[0;34m!=\u001b[0m \u001b[0;36m1\u001b[0m \u001b[0;32mand\u001b[0m \u001b[0mself\u001b[0m\u001b[0;34m.\u001b[0m\u001b[0mnum_features\u001b[0m\u001b[0;34m(\u001b[0m\u001b[0;34m)\u001b[0m \u001b[0;34m!=\u001b[0m \u001b[0mdata\u001b[0m\u001b[0;34m.\u001b[0m\u001b[0mshape\u001b[0m\u001b[0;34m[\u001b[0m\u001b[0;36m1\u001b[0m\u001b[0;34m]\u001b[0m\u001b[0;34m:\u001b[0m\u001b[0;34m\u001b[0m\u001b[0;34m\u001b[0m\u001b[0m\n\u001b[0;32m-> 2677\u001b[0;31m                 raise ValueError(\n\u001b[0m\u001b[1;32m   2678\u001b[0m                     \u001b[0;34mf\"Feature shape mismatch, expected: {self.num_features()}, \"\u001b[0m\u001b[0;34m\u001b[0m\u001b[0;34m\u001b[0m\u001b[0m\n\u001b[1;32m   2679\u001b[0m                     \u001b[0;34mf\"got {data.shape[1]}\"\u001b[0m\u001b[0;34m\u001b[0m\u001b[0;34m\u001b[0m\u001b[0m\n",
            "\u001b[0;31mValueError\u001b[0m: Feature shape mismatch, expected: 19, got 1"
          ]
        }
      ]
    },
    {
      "cell_type": "code",
      "source": [],
      "metadata": {
        "id": "h9adHGUNiw8p"
      },
      "execution_count": null,
      "outputs": []
    }
  ]
}